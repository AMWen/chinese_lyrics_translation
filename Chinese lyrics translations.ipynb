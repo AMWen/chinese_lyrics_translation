{
 "cells": [
  {
   "cell_type": "code",
   "execution_count": 1,
   "metadata": {},
   "outputs": [],
   "source": [
    "# Import necessary packages\n",
    "from smtplib import SMTP\n",
    "\n",
    "from urllib.request import urlopen, Request\n",
    "from urllib.parse import quote\n",
    "import random\n",
    "import re\n",
    "\n",
    "from chinese import ChineseAnalyzer\n",
    "\n",
    "from email.mime.multipart import MIMEMultipart\n",
    "from email.mime.text import MIMEText"
   ]
  },
  {
   "cell_type": "code",
   "execution_count": 3,
   "metadata": {},
   "outputs": [
    {
     "name": "stdout",
     "output_type": "stream",
     "text": [
      "https://www.kkbox.com/tw/tc/song/by.00WOSmSpknDuzknDuz0XL-index.html\n"
     ]
    }
   ],
   "source": [
    "# Find list of songs\n",
    "headers = {'User-Agent': 'Mozilla/5.0 (Windows NT 6.1) AppleWebKit/537.36 (KHTML, like Gecko) Chrome/41.0.2228.0 Safari/537.3'}\n",
    "\n",
    "chart_html = urlopen(Request('https://kma.kkbox.com/charts/weekly/song?cate=297', headers=headers)).read()\n",
    "songs = re.findall(r'\"song_url\":\"https:\\\\/\\\\/www.kkbox.com\\\\/tw\\\\/tc\\\\/song\\\\/(\\S{24}-index.html)\"',\n",
    "           chart_html.decode())\n",
    "\n",
    "# Choose a random song out of the 50\n",
    "i = random.randint(0, len(songs)-1)\n",
    "song_link = 'https://www.kkbox.com/tw/tc/song/' + songs[i]\n",
    "print(song_link)"
   ]
  },
  {
   "cell_type": "code",
   "execution_count": 8,
   "metadata": {},
   "outputs": [
    {
     "name": "stdout",
     "output_type": "stream",
     "text": [
      "CHANGE\n",
      "瘦子E.SO\n"
     ]
    }
   ],
   "source": [
    "# Find title of song and clean up a bit\n",
    "song_html = urlopen(Request(song_link, headers=headers)).read()\n",
    "title = re.findall(r'\\<title\\>([^\\t\\n\\r\\f\\v]*)-歌詞', song_html.decode())[0] \\\n",
    "          .replace('&lt;', '<').replace('&gt;', '>')\n",
    "print(title)\n",
    "\n",
    "# Find artist name\n",
    "artist = re.findall(r'\\<title\\>[^\\t\\n\\r\\f\\v]*-歌詞-([^\\t\\n\\r\\f\\v]*)-', song_html.decode())[0] \\\n",
    "          .replace('&lt;', '<').replace('&gt;', '>')\n",
    "print(artist)\n",
    "\n",
    "# Find lyrics and clean up a bit\n",
    "lyrics = re.findall(r'\"text\":([^\\t\\n\\r\\f\\v}]*)', song_html.decode())[0] \\\n",
    "           .replace('\\\\n', '\\n').replace('\"', '').replace('\\\\r', '')"
   ]
  },
  {
   "cell_type": "code",
   "execution_count": 5,
   "metadata": {},
   "outputs": [
    {
     "name": "stdout",
     "output_type": "stream",
     "text": [
      "https://www.youtube.com/watch?v=HTRQ0n4yjfs\n"
     ]
    }
   ],
   "source": [
    "# Get video link from youtube\n",
    "html = urlopen(\"https://www.youtube.com/results?search_query=%s\"%(quote(title + artist))).read()\n",
    "video_ids = re.findall(r\"watch\\?v=(\\S{11})\", html.decode())\n",
    "video_link = \"https://www.youtube.com/watch?v=\" + video_ids[0]\n",
    "print(video_link)"
   ]
  },
  {
   "cell_type": "code",
   "execution_count": 6,
   "metadata": {},
   "outputs": [],
   "source": [
    "# Translate lyrics\n",
    "analyzer = ChineseAnalyzer()\n",
    "result = analyzer.parse(lyrics, traditional=True)\n",
    "\n",
    "# Create list of unique words\n",
    "seen = set()\n",
    "words = [word for word in result.tokens() if not (word in seen or seen.add(word))]\n",
    "\n",
    "# Update word list by appending pinyin and translation(s) to each word\n",
    "translations = []\n",
    "for word in words:\n",
    "    defs = result[word]\n",
    "    \n",
    "    # Only proceed if matches to a word with a definition and pinyin\n",
    "    if defs[0].pinyin != None:\n",
    "        \n",
    "        # Go through all definitions if multiple (since dictionary need a separate key for each)\n",
    "        for d in defs:\n",
    "            translations.append(word + ': ' + ''.join(d.pinyin) + ', ' + ', '.join(d.definitions))\n",
    "            \n",
    "# Make translations into one giant block of text\n",
    "translations = '\\n'.join(translations)"
   ]
  },
  {
   "cell_type": "code",
   "execution_count": 2,
   "metadata": {},
   "outputs": [
    {
     "data": {
      "text/plain": [
       "(235, b'2.7.0 Accepted')"
      ]
     },
     "execution_count": 2,
     "metadata": {},
     "output_type": "execute_result"
    }
   ],
   "source": [
    "# Set up the SMTP server\n",
    "s = SMTP(host='smtp.gmail.com', port=587)\n",
    "s.starttls()\n",
    "s.login('XXX@gmail.com', 'pwdstring')"
   ]
  },
  {
   "cell_type": "code",
   "execution_count": 7,
   "metadata": {},
   "outputs": [
    {
     "data": {
      "text/plain": [
       "(221, b'2.0.0 closing connection c1sm401478qta.86 - gsmtp')"
      ]
     },
     "execution_count": 7,
     "metadata": {},
     "output_type": "execute_result"
    }
   ],
   "source": [
    "# Create message\n",
    "msg = MIMEMultipart()\n",
    "\n",
    "# https://www.freecodecamp.org/news/send-emails-using-code-4fcea9df63f/\n",
    "message = 'Song of the day: {}\\n'.format(title) + \\\n",
    "          'Artist: {}\\n\\n'.format(artist) + \\\n",
    "          'Song link: {}\\n'.format(song_link) + \\\n",
    "          'Video link: {}\\n\\n'.format(video_link) + \\\n",
    "          'Lyrics: {}\\n\\n'.format(lyrics) + \\\n",
    "          'Translations: \\n{}'.format(translations)\n",
    "\n",
    "# Set up the parameters of the message\n",
    "msg['To'] = 'XXX@gmail.com'\n",
    "msg['Subject'] = \"Daily digest\"\n",
    "\n",
    "# Add in the message body\n",
    "msg.attach(MIMEText(message, 'plain'))\n",
    "\n",
    "# Send the message\n",
    "s.send_message(msg)\n",
    "del msg\n",
    "\n",
    "# Terminate the SMTP session and close the connection\n",
    "s.quit()"
   ]
  },
  {
   "cell_type": "code",
   "execution_count": null,
   "metadata": {},
   "outputs": [],
   "source": []
  }
 ],
 "metadata": {
  "kernelspec": {
   "display_name": "Python 3",
   "language": "python",
   "name": "python3"
  },
  "language_info": {
   "codemirror_mode": {
    "name": "ipython",
    "version": 3
   },
   "file_extension": ".py",
   "mimetype": "text/x-python",
   "name": "python",
   "nbconvert_exporter": "python",
   "pygments_lexer": "ipython3",
   "version": "3.7.3"
  }
 },
 "nbformat": 4,
 "nbformat_minor": 2
}
